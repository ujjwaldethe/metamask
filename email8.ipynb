{
 "cells": [
  {
   "cell_type": "code",
   "execution_count": 1,
   "id": "2bb07b36-c6fd-4a39-b77c-2a3265397225",
   "metadata": {},
   "outputs": [],
   "source": [
    "import pandas as pd\n",
    "import numpy as np\n",
    "import seaborn as sns\n",
    "import matplotlib.pyplot as plt\n",
    "\n"
   ]
  },
  {
   "cell_type": "code",
   "execution_count": 2,
   "id": "9293aa16-e065-43c4-829f-e79e7c000a39",
   "metadata": {},
   "outputs": [],
   "source": [
    "\n",
    "df = pd.read_csv('emails.csv')\n"
   ]
  },
  {
   "cell_type": "code",
   "execution_count": null,
   "id": "c904df79-add3-4628-9d2e-ca2106d31c52",
   "metadata": {},
   "outputs": [],
   "source": [
    "\n",
    "df.isnull().sum()\n"
   ]
  },
  {
   "cell_type": "code",
   "execution_count": null,
   "id": "dad553dc-6d25-4053-b407-2a369a807eb2",
   "metadata": {},
   "outputs": [],
   "source": [
    "\n",
    "x = df.iloc[:, 1:-1].values\n",
    "y = df.iloc[:, -1].values\n"
   ]
  },
  {
   "cell_type": "code",
   "execution_count": null,
   "id": "422f8288-b56c-414f-9fe2-574f92f31575",
   "metadata": {},
   "outputs": [],
   "source": [
    "\n",
    "from sklearn.model_selection import train_test_split\n",
    "x_train, x_test, y_train, y_test = train_test_split(x,y, test_size = 0.30, random_state = 101)\n",
    "\n"
   ]
  },
  {
   "cell_type": "code",
   "execution_count": null,
   "id": "15f818a5-6865-45fc-87eb-7a679c7a150b",
   "metadata": {},
   "outputs": [],
   "source": [
    "from sklearn.preprocessing import StandardScaler\n",
    "sc_X = StandardScaler()\n",
    "x_train = sc_X.fit_transform(x_train)\n",
    "x_test = sc_X.transform(x_test)\n"
   ]
  },
  {
   "cell_type": "code",
   "execution_count": null,
   "id": "a896cf17-4a37-409a-ba00-ee895c0b4817",
   "metadata": {},
   "outputs": [],
   "source": [
    "\n",
    "from sklearn.neighbors import KNeighborsClassifier\n",
    "classifier = KNeighborsClassifier(n_neighbors=5)\n",
    "classifier.fit(x_train, y_train)\n",
    "\n"
   ]
  },
  {
   "cell_type": "code",
   "execution_count": null,
   "id": "31d93200-9df8-4e13-a937-60f18caeb46e",
   "metadata": {},
   "outputs": [],
   "source": [
    "y_pred = classifier.predict(x_test)\n",
    "\n"
   ]
  },
  {
   "cell_type": "code",
   "execution_count": null,
   "id": "c9d78d7b-bef0-40e9-af80-306d52e14193",
   "metadata": {},
   "outputs": [],
   "source": [
    "from sklearn.metrics import confusion_matrix, accuracy_score\n",
    "cm = confusion_matrix(y_test, y_pred)\n",
    "\n"
   ]
  },
  {
   "cell_type": "code",
   "execution_count": null,
   "id": "2c198f78-71f2-4bfc-ba97-5c2360f8f455",
   "metadata": {},
   "outputs": [],
   "source": [
    "cm\n",
    "\n"
   ]
  },
  {
   "cell_type": "code",
   "execution_count": null,
   "id": "a9184968-7705-43f5-ac93-d5edd80562e3",
   "metadata": {},
   "outputs": [],
   "source": [
    "from sklearn.metrics import classification_report\n",
    "cl_report=classification_report(y_test,y_pred)\n",
    "print(cl_report)\n",
    "\n"
   ]
  },
  {
   "cell_type": "code",
   "execution_count": null,
   "id": "f624abd8-c6b0-406b-9170-1008bca29909",
   "metadata": {},
   "outputs": [],
   "source": [
    "print(\"Accuracy Score for KNN : \", accuracy_score(y_pred,y_test))\n",
    "\n"
   ]
  },
  {
   "cell_type": "code",
   "execution_count": null,
   "id": "087ca57b-3b17-4d21-9951-f969dbcdf95b",
   "metadata": {},
   "outputs": [],
   "source": [
    "from sklearn.svm import SVC\n",
    "svc = SVC(C=1.0,kernel='rbf',gamma='auto')\n",
    "svc.fit(x_train,y_train)\n",
    "y_pred2 = svc.predict(x_test)\n",
    "\n"
   ]
  },
  {
   "cell_type": "code",
   "execution_count": null,
   "id": "57df8674-524a-4e43-9c32-38f5b3b9c0b3",
   "metadata": {},
   "outputs": [],
   "source": [
    "cma = confusion_matrix(y_test, y_pred2)\n",
    "cma\n"
   ]
  },
  {
   "cell_type": "code",
   "execution_count": null,
   "id": "e0284037-fca2-43ad-9265-b6e87e387b32",
   "metadata": {},
   "outputs": [],
   "source": [
    "\n",
    "print(\"Accuracy Score for SVC : \", accuracy_score(y_pred2,y_test))\n",
    "\n"
   ]
  },
  {
   "cell_type": "code",
   "execution_count": null,
   "id": "ca8f0189-9b3d-44b9-a4c0-122b0f07f6fc",
   "metadata": {},
   "outputs": [],
   "source": [
    "cl_report=classification_report(y_test,y_pred2)\n",
    "print(cl_report)"
   ]
  }
 ],
 "metadata": {
  "kernelspec": {
   "display_name": "Python 3 (ipykernel)",
   "language": "python",
   "name": "python3"
  },
  "language_info": {
   "codemirror_mode": {
    "name": "ipython",
    "version": 3
   },
   "file_extension": ".py",
   "mimetype": "text/x-python",
   "name": "python",
   "nbconvert_exporter": "python",
   "pygments_lexer": "ipython3",
   "version": "3.12.3"
  }
 },
 "nbformat": 4,
 "nbformat_minor": 5
}
