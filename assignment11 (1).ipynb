{
 "cells": [
  {
   "cell_type": "code",
   "execution_count": null,
   "id": "838b952e-d5ab-46da-b533-963d952faaaa",
   "metadata": {},
   "outputs": [],
   "source": [
    "import pandas as pd\n",
    "import numpy as np\n",
    "import matplotlib.pyplot as plt\n",
    "from sklearn.cluster import KMeans\n",
    "\n",
    "\n"
   ]
  },
  {
   "cell_type": "code",
   "execution_count": null,
   "id": "801397ca-02c9-41e2-9dad-6377b220c307",
   "metadata": {},
   "outputs": [],
   "source": [
    "df = pd.read_csv(\"sales_data_sample.csv\",encoding=\"latin\")"
   ]
  },
  {
   "cell_type": "code",
   "execution_count": null,
   "id": "8b24ffb5-1388-4b2d-a555-646dc8315479",
   "metadata": {},
   "outputs": [],
   "source": [
    "x = df.iloc[:,[3,4]].values"
   ]
  },
  {
   "cell_type": "code",
   "execution_count": null,
   "id": "860ed355-ee1c-469f-a35b-afabbc8752c6",
   "metadata": {},
   "outputs": [],
   "source": [
    "wcss = [] #within cluster sum of square\n",
    "for i in range(1,13):\n",
    "#init argument is the method for initializing the centroid\n",
    "    kmeans = KMeans(n_clusters=i, init=\"k-means++\", random_state=42)\n",
    "    kmeans.fit(x)\n",
    "#we calculate wcss value for each k value\n",
    "    wcss.append(kmeans.inertia_)\n",
    "ks = [1,2,3,4,5,6,7,8,9,10,11,12]\n",
    "plt.plot(ks, wcss, 'bx-')\n",
    "plt.title(\"Elbow method\")\n",
    "plt.xlabel(\"K value\")\n",
    "plt.ylabel(\"WCSS\")"
   ]
  },
  {
   "cell_type": "code",
   "execution_count": null,
   "id": "c2ea2f5d-1a46-4659-837a-15705a12575c",
   "metadata": {},
   "outputs": [],
   "source": [
    "from sklearn.preprocessing import StandardScaler\n",
    "sc = StandardScaler()\n",
    "data = sc.fit_transform(x)"
   ]
  },
  {
   "cell_type": "code",
   "execution_count": null,
   "id": "6d385612-4df0-4c7e-a85d-1aec76cd007d",
   "metadata": {},
   "outputs": [],
   "source": [
    "wcss =[]\n",
    "for i in range(1,11):\n",
    "    clustering = KMeans(n_clusters=i, init=\"k-means++\", random_state=42)\n",
    "    clustering.fit(data)\n",
    "    wcss.append(clustering.inertia_)\n",
    "ks = [1,2,3,4,5,6,7,8,9,10]\n",
    "plt.plot(ks, wcss, 'bx-')\n",
    "plt.title(\"Elbow method\")\n",
    "plt.xlabel(\"K value\")\n",
    "plt.ylabel(\"WCSS\")"
   ]
  }
 ],
 "metadata": {
  "kernelspec": {
   "display_name": "Python 3 (ipykernel)",
   "language": "python",
   "name": "python3"
  },
  "language_info": {
   "codemirror_mode": {
    "name": "ipython",
    "version": 3
   },
   "file_extension": ".py",
   "mimetype": "text/x-python",
   "name": "python",
   "nbconvert_exporter": "python",
   "pygments_lexer": "ipython3",
   "version": "3.12.3"
  }
 },
 "nbformat": 4,
 "nbformat_minor": 5
}
